{
 "cells": [
  {
   "cell_type": "code",
   "execution_count": null,
   "id": "b8f33ca3",
   "metadata": {},
   "outputs": [],
   "source": [
    "import pandas as pd\n",
    "import numpy as np\n",
    "import yfinance as yf\n",
    "import matplotlib.pyplot as plt\n",
    "from tqdm import tqdm"
   ]
  },
  {
   "cell_type": "code",
   "execution_count": null,
   "id": "d13bb6e4",
   "metadata": {},
   "outputs": [],
   "source": [
    "# Parameters\n",
    "ETFS            = [\"XLY\",\"XLP\",\"XLE\",\"XLF\",\"XLV\",\"XLI\",\"XLB\",\"XLK\",\"XLU\"]\n",
    "START           = \"2015-01-01\"\n",
    "LOOKBACK_MONTHS = 6\n",
    "TOP_N           = 3\n",
    "TC              = 0.001"
   ]
  },
  {
   "cell_type": "code",
   "execution_count": null,
   "id": "23cdf968",
   "metadata": {},
   "outputs": [],
   "source": [
    "# Download & prepare data\n",
    "prices        = yf.download(ETFS + [\"SPY\"], start=START, auto_adjust=True)[\"Close\"]\n",
    "returns       = prices.pct_change().fillna(0)\n",
    "price_monthly = prices[ETFS].resample(\"ME\").last()"
   ]
  },
  {
   "cell_type": "code",
   "execution_count": null,
   "id": "4efacf48",
   "metadata": {},
   "outputs": [],
   "source": [
    "# Build monthly momentum signal\n",
    "momentum = price_monthly.divide(price_monthly.shift(LOOKBACK_MONTHS)).subtract(1)\n",
    "rank_pct = momentum.rank(pct=True, axis=1)"
   ]
  },
  {
   "cell_type": "code",
   "execution_count": null,
   "id": "f5be755b",
   "metadata": {},
   "outputs": [],
   "source": [
    "signal    = (rank_pct >= (1 - TOP_N/len(ETFS))).astype(float)\n",
    "positions = signal.reindex(prices.index, method=\"ffill\")\n",
    "positions = positions.div(positions.sum(axis=1), axis=0).fillna(0)"
   ]
  },
  {
   "cell_type": "code",
   "execution_count": null,
   "id": "f3b41e8e",
   "metadata": {},
   "outputs": [],
   "source": [
    "# Backtest the rotation strategy\n",
    "strategy_returns    = (positions.shift() * returns[ETFS]).sum(axis=1)\n",
    "strategy_returns   -= positions.diff().abs().sum(axis=1) * TC\n",
    "cumulative_strategy = (1 + strategy_returns).cumprod()"
   ]
  },
  {
   "cell_type": "code",
   "execution_count": null,
   "id": "aa843fa5",
   "metadata": {},
   "outputs": [],
   "source": [
    "# Benchmark: SPY\n",
    "spy_returns    = returns[\"SPY\"]\n",
    "cumulative_spy = (1 + spy_returns).cumprod().reindex(cumulative_strategy.index, method=\"ffill\")"
   ]
  },
  {
   "cell_type": "code",
   "execution_count": null,
   "id": "6b241e2a",
   "metadata": {},
   "outputs": [],
   "source": [
    "# Performance metrics\n",
    "def perf_stats(rts, cum_rts):\n",
    "    ann     = rts.mean() * 252\n",
    "    vol     = rts.std(ddof=0) * np.sqrt(252)\n",
    "    sharpe  = ann/vol if vol!=0 else np.nan\n",
    "    dd      = (cum_rts.cummax() - cum_rts).max()\n",
    "    return ann, vol, sharpe, dd"
   ]
  },
  {
   "cell_type": "code",
   "execution_count": null,
   "id": "f2e2caf7",
   "metadata": {},
   "outputs": [],
   "source": [
    "s_ann, s_vol, s_sharpe, s_dd = perf_stats(strategy_returns, cumulative_strategy)\n",
    "b_ann, b_vol, b_sharpe, b_dd = perf_stats(spy_returns.loc[cumulative_strategy.index], cumulative_spy)"
   ]
  },
  {
   "cell_type": "code",
   "execution_count": null,
   "id": "7a3a09c4",
   "metadata": {},
   "outputs": [],
   "source": [
    "print(f\"{'Metric':20}{'Strategy':>12}{'SPY':>12}\")\n",
    "print(\"-\"*44)\n",
    "print(f\"{'Ann. Return':20}{s_ann:12.2%}{b_ann:12.2%}\")\n",
    "print(f\"{'Ann. Volatility':20}{s_vol:12.2%}{b_vol:12.2%}\")\n",
    "print(f\"{'Sharpe Ratio':20}{s_sharpe:12.2f}{b_sharpe:12.2f}\")\n",
    "print(f\"{'Max Drawdown':20}{s_dd:12.2%}{b_dd:12.2%}\")"
   ]
  },
  {
   "cell_type": "code",
   "execution_count": null,
   "id": "0d5bb187",
   "metadata": {},
   "outputs": [],
   "source": [
    "# Parameter sweep for heatmap\n",
    "lookbacks = [3, 6, 9, 12]\n",
    "top_ns    = [2, 3, 4, 5]\n",
    "results   = []"
   ]
  },
  {
   "cell_type": "code",
   "execution_count": null,
   "id": "f4995f8b",
   "metadata": {},
   "outputs": [],
   "source": [
    "for lb in lookbacks:\n",
    "    mom_lb = price_monthly.divide(price_monthly.shift(lb)).subtract(1)\n",
    "    pct_lb = mom_lb.rank(pct=True, axis=1)\n",
    "    for tn in top_ns:\n",
    "        sig = (pct_lb >= (1 - tn/len(ETFS))).astype(float)\n",
    "        pos = sig.reindex(prices.index, method=\"ffill\")\n",
    "        pos = pos.div(pos.sum(axis=1), axis=0).fillna(0)\n",
    "        ret = (pos.shift() * returns[ETFS]).sum(axis=1)\n",
    "        ret -= pos.diff().abs().sum(axis=1) * TC\n",
    "        cum = (1 + ret).cumprod()\n",
    "        ann    = ret.mean()*252\n",
    "        vol    = ret.std(ddof=0)*np.sqrt(252)\n",
    "        sharpe = ann/vol if vol!=0 else np.nan\n",
    "        results.append({\"lookback\": lb, \"top_n\": tn, \"Sharpe\": sharpe})"
   ]
  },
  {
   "cell_type": "code",
   "execution_count": null,
   "id": "000acefe",
   "metadata": {},
   "outputs": [],
   "source": [
    "df_res   = pd.DataFrame(results)\n",
    "df_pivot = df_res.pivot_table(index=\"lookback\", columns=\"top_n\", values=\"Sharpe\", aggfunc=\"first\")"
   ]
  },
  {
   "cell_type": "code",
   "execution_count": null,
   "id": "7ef14ec7",
   "metadata": {},
   "outputs": [],
   "source": [
    "# Plot heatmap\n",
    "fig, ax = plt.subplots(figsize=(6,4))\n",
    "data = df_pivot.values\n",
    "im   = ax.imshow(data, origin=\"lower\", aspect=\"auto\", cmap=\"viridis\")\n",
    "ax.set_xticks(np.arange(data.shape[1]))\n",
    "ax.set_yticks(np.arange(data.shape[0]))\n",
    "ax.set_xticklabels(df_pivot.columns)\n",
    "ax.set_yticklabels(df_pivot.index)\n",
    "plt.setp(ax.get_xticklabels(), rotation=45, ha=\"right\")\n",
    "cbar = fig.colorbar(im, ax=ax, label=\"Sharpe Ratio\")\n",
    "for i in range(data.shape[0]):\n",
    "    for j in range(data.shape[1]):\n",
    "        ax.text(j, i, f\"{data[i,j]:.2f}\", ha=\"center\", va=\"center\",\n",
    "                color=\"white\" if data[i,j] < data.max()/2 else \"black\")\n",
    "ax.set_xlabel(\"Top N ETFs\")\n",
    "ax.set_ylabel(\"Lookback (months)\")\n",
    "ax.set_title(\"Sharpe Ratio Heatmap\")\n",
    "plt.tight_layout()\n",
    "plt.show()"
   ]
  }
 ],
 "metadata": {
  "kernelspec": {
   "display_name": "Python 3",
   "language": "python",
   "name": "python3"
  },
  "language_info": {
   "name": "python",
   "version": "3.x"
  }
 },
 "nbformat": 4,
 "nbformat_minor": 5
}
