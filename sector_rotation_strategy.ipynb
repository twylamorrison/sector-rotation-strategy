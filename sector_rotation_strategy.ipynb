{
 "cells": [
  {
   "cell_type": "code",
   "execution_count": null,
   "id": "024b74c0",
   "metadata": {},
   "outputs": [],
   "source": [
    "# ------------------------------\n",
    "# Clean Sector Rotation vs. SPY (Single Cell)\n",
    "# ------------------------------"
   ]
  },
  {
   "cell_type": "code",
   "execution_count": null,
   "id": "85787f08",
   "metadata": {},
   "outputs": [],
   "source": [
    "# Install & Pin"
   ]
  },
  {
   "cell_type": "code",
   "execution_count": null,
   "id": "f3ca2935",
   "metadata": {},
   "outputs": [],
   "source": [
    "# Clear any past outputs & figures\n",
    "import matplotlib.pyplot as plt\n",
    "plt.close('all')"
   ]
  },
  {
   "cell_type": "code",
   "execution_count": null,
   "id": "9df0f21b",
   "metadata": {},
   "outputs": [],
   "source": [
    "# Imports\n",
    "import pandas as pd\n",
    "import numpy as np\n",
    "import yfinance as yf\n",
    "from tqdm import tqdm"
   ]
  },
  {
   "cell_type": "code",
   "execution_count": null,
   "id": "d09d6328",
   "metadata": {},
   "outputs": [],
   "source": [
    "# Params\n",
    "ETFS   = [\"XLY\",\"XLP\",\"XLE\",\"XLF\",\"XLV\",\"XLI\",\"XLB\",\"XLK\",\"XLU\"]\n",
    "START  = \"2015-01-01\"\n",
    "MOM    = 6       # months lookback\n",
    "TOP_N  = 3       # of ETFs to hold\n",
    "TC     = 0.001   # .1% round-trip cost"
   ]
  },
  {
   "cell_type": "code",
   "execution_count": null,
   "id": "6fda2dc7",
   "metadata": {},
   "outputs": [],
   "source": [
    "# Download & Prep Data\n",
    "prices   = yf.download(ETFS, start=START, auto_adjust=True)[\"Close\"]\n",
    "rets     = prices.pct_change().fillna(0)\n",
    "price_m  = prices.resample(\"ME\").last()                   # month-end\n",
    "mom      = price_m / price_m.shift(MOM) - 1\n",
    "rank_pct = mom.rank(pct=True, axis=1)\n",
    "signal_m = (rank_pct >= (1 - TOP_N/len(ETFS))).astype(float)\n",
    "pos      = signal_m.reindex(prices.index, method=\"ffill\")\n",
    "pos      = pos.div(pos.sum(axis=1), axis=0).fillna(0)"
   ]
  },
  {
   "cell_type": "code",
   "execution_count": null,
   "id": "cf52bf9d",
   "metadata": {},
   "outputs": [],
   "source": [
    "# Strategy & Benchmark\n",
    "strategy_returns = (pos.shift() * rets).sum(axis=1)\n",
    "strategy_returns -= pos.diff().abs().sum(axis=1) * TC\n",
    "cumulative_strategy = (1 + strategy_returns).cumprod()"
   ]
  },
  {
   "cell_type": "code",
   "execution_count": null,
   "id": "097dc389",
   "metadata": {},
   "outputs": [],
   "source": [
    "spy       = yf.download(\"SPY\", start=START, auto_adjust=True)[\"Close\"]\n",
    "spy_ret   = spy.pct_change().fillna(0)\n",
    "cum_spy   = (1 + spy_ret).cumprod().reindex(cumulative_strategy.index, method=\"ffill\")"
   ]
  },
  {
   "cell_type": "code",
   "execution_count": null,
   "id": "08c448f9",
   "metadata": {},
   "outputs": [],
   "source": [
    "# Plot\n",
    "# Plot\n",
    "plt.figure(figsize=(10,5))\n",
    "plt.plot(cumulative_strategy, label=\"6-M Sector Rotation\")  # Explicitly use plt.plot()\n",
    "plt.plot(cum_spy, label=\"SPY Buy-Hold\")\n",
    "plt.title(\"6-Month Momentum Sector Rotation vs. SPY\")\n",
    "plt.xlabel(\"Date\")\n",
    "plt.ylabel(\"Cumulative Return\")\n",
    "plt.legend()\n",
    "plt.grid(True)\n",
    "plt.show()"
   ]
  },
  {
   "cell_type": "code",
   "execution_count": null,
   "id": "d015b188",
   "metadata": {},
   "outputs": [],
   "source": [
    "# Metrics\n",
    "def perf_stats(r, cr):\n",
    "    a = np.asarray(r.dropna())\n",
    "    if a.size == 0: return (np.nan,)*4\n",
    "    ann = a.mean()*252\n",
    "    vol = a.std(ddof=0)*np.sqrt(252)\n",
    "    sr  = ann/vol if vol!=0 else np.nan\n",
    "    dd  = np.max(np.maximum.accumulate(cr)-cr)\n",
    "    return ann, vol, sr, dd"
   ]
  },
  {
   "cell_type": "code",
   "execution_count": null,
   "id": "64a22983",
   "metadata": {},
   "outputs": [],
   "source": [
    "s_r, s_v, s_sr, s_dd = perf_stats(strategy_returns, cumulative_strategy)\n",
    "p_r, p_v, p_sr, p_dd = perf_stats(spy_ret.loc[cumulative_strategy.index], cum_spy)"
   ]
  },
  {
   "cell_type": "code",
   "execution_count": null,
   "id": "75b216d3",
   "metadata": {},
   "outputs": [],
   "source": [
    "print(f\"{'Metric':20}{'Rotation':>12}{'SPY':>12}\")\n",
    "print(\"-\"*44)\n",
    "print(f\"{'Ann. Return':20}{s_r:12.2%}{p_r:12.2%}\")\n",
    "print(f\"{'Ann. Volatility':20}{s_v:12.2%}{p_v:12.2%}\")\n",
    "print(f\"{'Sharpe Ratio':20}{s_sr:12.2f}{p_sr:12.2f}\")\n",
    "print(f\"{'Max Drawdown':20}{s_dd:12.2%}{p_dd:12.2%}\")"
   ]
  },
  {
   "cell_type": "code",
   "execution_count": null,
   "id": "9f00be3b",
   "metadata": {},
   "outputs": [],
   "source": [
    "# ------------------------------"
   ]
  },
  {
   "cell_type": "code",
   "execution_count": null,
   "id": "67a13fa8",
   "metadata": {},
   "outputs": [],
   "source": [
    "# ------------------------------"
   ]
  },
  {
   "cell_type": "code",
   "execution_count": null,
   "id": "d253d686",
   "metadata": {},
   "outputs": [],
   "source": [
    "# Installs & Imports"
   ]
  },
  {
   "cell_type": "code",
   "execution_count": null,
   "id": "3bce85fc",
   "metadata": {},
   "outputs": [],
   "source": [
    ", yfinance as yf, matplotlib.pyplot as plt\n",
    "from tqdm import tqdm"
   ]
  },
  {
   "cell_type": "code",
   "execution_count": null,
   "id": "9e1a57c3",
   "metadata": {},
   "outputs": [],
   "source": [
    "plt.close('all')"
   ]
  },
  {
   "cell_type": "code",
   "execution_count": null,
   "id": "d8df6c13",
   "metadata": {},
   "outputs": [],
   "source": [
    "# Params (same as before)\n",
    "ETFS   = [\"XLY\",\"XLP\",\"XLE\",\"XLF\",\"XLV\",\"XLI\",\"XLB\",\"XLK\",\"XLU\"]\n",
    "START  = \"2015-01-01\"\n",
    "MOM    = 6\n",
    "TOP_N  = 3\n",
    "TC     = 0.001"
   ]
  },
  {
   "cell_type": "code",
   "execution_count": null,
   "id": "9f673bc6",
   "metadata": {},
   "outputs": [],
   "source": [
    "# Download data\n",
    "prices = yf.download(ETFS + [\"SPY\"], start=START, auto_adjust=True)[\"Close\"]\n",
    "rets   = prices.pct_change().fillna(0)"
   ]
  },
  {
   "cell_type": "code",
   "execution_count": null,
   "id": "b5e0c0e0",
   "metadata": {},
   "outputs": [],
   "source": [
    "# Build sector rotation signal\n",
    "price_m    = prices[ETFS].resample(\"ME\").last()\n",
    "mom        = price_m / price_m.shift(MOM) - 1\n",
    "rank_pct   = mom.rank(pct=True, axis=1)\n",
    "signal_m   = (rank_pct >= (1 - TOP_N/len(ETFS))).astype(float)\n",
    "pos_sec    = signal_m.reindex(prices.index, method=\"ffill\")\n",
    "pos_sec    = pos_sec.div(pos_sec.sum(axis=1), axis=0).fillna(0)"
   ]
  },
  {
   "cell_type": "code",
   "execution_count": null,
   "id": "5923aba2",
   "metadata": {},
   "outputs": [],
   "source": [
    "# Compute bull/bear regime from SPY 200-day MA\n",
    "spy_price  = prices[\"SPY\"]\n",
    "ma200      = spy_price.rolling(200).mean()\n",
    "bull_reg   = (spy_price > ma200).astype(float)   # =bull, 0=bear"
   ]
  },
  {
   "cell_type": "code",
   "execution_count": null,
   "id": "189f9d0a",
   "metadata": {},
   "outputs": [],
   "source": [
    "# Build regime-adaptive daily weights\n",
    "# In bull: sector rotation;  In bear: 100% SPY\n",
    "pos_reg     = pos_sec.multiply(bull_reg, axis=0)\n",
    "pos_reg[\"SPY\"] = 1 - bull_reg   # when bear, SPY=1; when bull, SPY=0"
   ]
  },
  {
   "cell_type": "code",
   "execution_count": null,
   "id": "48c93545",
   "metadata": {},
   "outputs": [],
   "source": [
    "# Backtest each strategy\n",
    "def backtest(pos_df, returns_df):\n",
    "    strat = (pos_df.shift() * returns_df).sum(axis=1)\n",
    "    # subtract costs only on sector legs\n",
    "    tc = pos_df[ETFS].diff().abs().sum(axis=1) * TC\n",
    "    return (strat - tc).fillna(0).rename(\"daily_returns\")"
   ]
  },
  {
   "cell_type": "code",
   "execution_count": null,
   "id": "bc80be5d",
   "metadata": {},
   "outputs": [],
   "source": [
    "# sector‐only rotation\n",
    "rotation_daily_returns  = backtest(pos_sec.join( pd.DataFrame(0, index=pos_sec.index, columns=[\"SPY\"])), rets)\n",
    "cumulative_rotation  = (1 + rotation_daily_returns).cumprod()"
   ]
  },
  {
   "cell_type": "code",
   "execution_count": null,
   "id": "1ef65956",
   "metadata": {},
   "outputs": [],
   "source": [
    "# regime‐adaptive rotation\n",
    "regime_daily_returns  = backtest(pos_reg, rets)\n",
    "cumulative_regime  = (1 + regime_daily_returns).cumprod()"
   ]
  },
  {
   "cell_type": "code",
   "execution_count": null,
   "id": "84f3714c",
   "metadata": {},
   "outputs": [],
   "source": [
    "# SPY buy‐hold\n",
    "spy_ret  = rets[\"SPY\"]\n",
    "cum_spy  = (1 + spy_ret).cumprod()"
   ]
  },
  {
   "cell_type": "code",
   "execution_count": null,
   "id": "0b645fcf",
   "metadata": {},
   "outputs": [],
   "source": [
    "# Plot all three\n",
    "plt.figure(figsize=(10,5))\n",
    "cumulative_rotation.plot(label=\"Rotation (always)\")\n",
    "cumulative_regime.plot(label=\"Rotation w/ Regime Filter\")\n",
    "cum_spy.plot(label=\"SPY Buy-Hold\")\n",
    "# shade bear periods\n",
    "bear = bull_reg==0\n",
    "plt.fill_between(cumulative_regime.index, 0, 5, where=bear, color='gray', alpha=0.2, transform=plt.gca().get_xaxis_transform())\n",
    "plt.title(\"Regime-Adaptive Sector Rotation vs. SPY\")\n",
    "plt.ylabel(\"Cumulative Return\"); plt.xlabel(\"Date\")\n",
    "plt.legend(); plt.grid(True)\n",
    "plt.show()"
   ]
  },
  {
   "cell_type": "code",
   "execution_count": null,
   "id": "c91d3f76",
   "metadata": {},
   "outputs": [],
   "source": [
    "# Metrics summary\n",
    "def perf(r):\n",
    "    ann = r.mean()*252\n",
    "    vol = r.std(ddof=0)*np.sqrt(252)\n",
    "    sr  = ann/vol if vol else np.nan\n",
    "    dd  = np.max(np.maximum.accumulate((1+r).cumprod()) - (1+r).cumprod())\n",
    "    return ann, vol, sr, dd"
   ]
  },
  {
   "cell_type": "code",
   "execution_count": null,
   "id": "92579e8a",
   "metadata": {},
   "outputs": [],
   "source": [
    "rows = [\n",
    "    (\"Always Rotation\", *perf(rotation_daily_returns)),\n",
    "    (\"Regime-Adaptive\", *perf(regime_daily_returns)),\n",
    "    (\"SPY Buy-Hold\",    *perf(spy_ret))\n",
    "]\n",
    "print(f\"{'Strategy':25}{'AnnRet':>8}{'AnnVol':>8}{'Sharpe':>8}{'MaxDD':>8}\")\n",
    "for name, a,v,s,d in rows:\n",
    "    print(f\"{name:25}{a:8.2%}{v:8.2%}{s:8.2f}{d:8.2%}\")"
   ]
  },
  {
   "cell_type": "code",
   "execution_count": null,
   "id": "773b15b6",
   "metadata": {},
   "outputs": [],
   "source": [
    "# ------------------------------"
   ]
  },
  {
   "cell_type": "code",
   "execution_count": null,
   "id": "a890ff37",
   "metadata": {},
   "outputs": [],
   "source": [
    "# ------------------------------"
   ]
  },
  {
   "cell_type": "code",
   "execution_count": null,
   "id": "761fa9dd",
   "metadata": {},
   "outputs": [],
   "source": [
    "import pandas as pd\n",
    "import numpy as np\n",
    "import matplotlib.pyplot as plt"
   ]
  },
  {
   "cell_type": "code",
   "execution_count": null,
   "id": "4d1a25c0",
   "metadata": {},
   "outputs": [],
   "source": [
    "# Compute avg weights & total contributions\n",
    "# pos: DataFrame of daily weights for each ETF (from your rotation code)\n",
    "# rets: DataFrame of daily returns (same ETFS + SPY)\n",
    "daily_contrib   = pos.shift() * rets[ETFS]         # each ETF’s daily P&L contribution\n",
    "total_contrib   = daily_contrib.sum()              # sum over time = total return contribution\n",
    "avg_weights     = pos.mean()                       # average weight over the backtest"
   ]
  },
  {
   "cell_type": "code",
   "execution_count": null,
   "id": "3cc334dc",
   "metadata": {},
   "outputs": [],
   "source": [
    "attr = pd.DataFrame({\n",
    "    \"avg_weight\":    avg_weights,\n",
    "    \"total_return\":  total_contrib\n",
    "}).sort_values(\"total_return\", ascending=False)"
   ]
  },
  {
   "cell_type": "code",
   "execution_count": null,
   "id": "2a503499",
   "metadata": {},
   "outputs": [],
   "source": [
    "print(\"=== Sector Attribution ===\")\n",
    "print(attr.to_string(float_format=\"{:,.2%}\".format))"
   ]
  },
  {
   "cell_type": "code",
   "execution_count": null,
   "id": "a5c70675",
   "metadata": {},
   "outputs": [],
   "source": [
    "# Bar chart of contributions vs. weights\n",
    "fig, ax1 = plt.subplots(figsize=(8,4))\n",
    "attr[\"total_return\"].plot.bar(ax=ax1, rot=45, position=0, width=0.4, label=\"Total Return\")\n",
    "ax2 = ax1.twinx()\n",
    "(attr[\"avg_weight\"]).plot.bar(ax=ax2, rot=45, position=1, width=0.4, color=\"C1\", label=\"Avg Weight\")\n",
    "ax1.set_ylabel(\"Total Return\")\n",
    "ax2.set_ylabel(\"Avg Weight\")\n",
    "ax1.set_title(\"Sector Rotation Attribution\")\n",
    "ax1.legend(loc=\"upper left\")\n",
    "ax2.legend(loc=\"upper right\")\n",
    "plt.tight_layout()\n",
    "plt.show()"
   ]
  },
  {
   "cell_type": "code",
   "execution_count": null,
   "id": "4f9cec6c",
   "metadata": {},
   "outputs": [],
   "source": [
    "# Rolling Beta vs SPY\n",
    "window = 60  # trading days (~3 months)\n",
    "beta = strategy_returns.rolling(window).cov(rets[\"SPY\"]) / rets[\"SPY\"].rolling(window).var()\n",
    "beta.dropna().plot(figsize=(8,3), title=f\"{window}-Day Rolling Beta vs SPY\")\n",
    "plt.ylabel(\"Beta\"); plt.grid(True)\n",
    "plt.show()"
   ]
  },
  {
   "cell_type": "code",
   "execution_count": null,
   "id": "d452639e",
   "metadata": {},
   "outputs": [],
   "source": [
    ", yfinance as yf\n",
    "from tqdm import tqdm"
   ]
  },
  {
   "cell_type": "code",
   "execution_count": null,
   "id": "c9933a9d",
   "metadata": {},
   "outputs": [],
   "source": [
    "# Re-define params\n",
    "ETFS    = [\"XLY\",\"XLP\",\"XLE\",\"XLF\",\"XLV\",\"XLI\",\"XLB\",\"XLK\",\"XLU\"]\n",
    "START   = \"2015-01-01\"\n",
    "TC      = 0.001   # transaction cost"
   ]
  },
  {
   "cell_type": "code",
   "execution_count": null,
   "id": "54dbce47",
   "metadata": {},
   "outputs": [],
   "source": [
    "# Sweep settings\n",
    "lookbacks = [3, 6, 9, 12]    # months\n",
    "top_ns    = [2, 3, 4, 5]     # number of ETFs to hold"
   ]
  },
  {
   "cell_type": "code",
   "execution_count": null,
   "id": "2cfdbb40",
   "metadata": {},
   "outputs": [],
   "source": [
    "# Fetch once\n",
    "prices = yf.download(ETFS, start=START, auto_adjust=True)[\"Close\"]\n",
    "rets   = prices.pct_change().fillna(0)\n",
    "price_m = prices.resample(\"ME\").last()"
   ]
  },
  {
   "cell_type": "code",
   "execution_count": null,
   "id": "0ee8a576",
   "metadata": {},
   "outputs": [],
   "source": [
    "results = []\n",
    "for mom in tqdm(lookbacks, desc=\"Lookbacks\"):\n",
    "    # build momentum table for this lookback\n",
    "    mom_ret   = price_m / price_m.shift(mom) - 1\n",
    "    rank_pct  = mom_ret.rank(pct=True, axis=1)"
   ]
  },
  {
   "cell_type": "code",
   "execution_count": null,
   "id": "dae996d3",
   "metadata": {},
   "outputs": [],
   "source": [
    "    for top_n in top_ns:\n",
    "        # build signals & positions\n",
    "        signal_m = (rank_pct >= (1 - top_n/len(ETFS))).astype(float)\n",
    "        pos      = signal_m.reindex(prices.index, method=\"ffill\")\n",
    "        pos      = pos.div(pos.sum(axis=1), axis=0).fillna(0)"
   ]
  },
  {
   "cell_type": "code",
   "execution_count": null,
   "id": "e1bcaf84",
   "metadata": {},
   "outputs": [],
   "source": [
    "        # strategy returns net of cost\n",
    "        strategy_returns = (pos.shift() * rets).sum(axis=1)\n",
    "        strategy_returns -= pos.diff().abs().sum(axis=1) * TC\n",
    "        cum       = (1 + strategy_returns).cumprod()"
   ]
  },
  {
   "cell_type": "code",
   "execution_count": null,
   "id": "419d2713",
   "metadata": {},
   "outputs": [],
   "source": [
    "        # performance stats\n",
    "        ann_ret   = strategy_returns.mean() * 252\n",
    "        ann_vol   = strategy_returns.std(ddof=0) * np.sqrt(252)\n",
    "        sharpe    = ann_ret / ann_vol if ann_vol else np.nan\n",
    "        max_dd    = (cum.cummax() - cum).max()"
   ]
  },
  {
   "cell_type": "code",
   "execution_count": null,
   "id": "8550a9c5",
   "metadata": {},
   "outputs": [],
   "source": [
    "        results.append({\n",
    "            \"lookback\": mom,\n",
    "            \"top_n\":    top_n,\n",
    "            \"Ann Return\":   ann_ret,\n",
    "            \"Ann Vol\":      ann_vol,\n",
    "            \"Sharpe\":       sharpe,\n",
    "            \"Max Drawdown\": max_dd\n",
    "        })"
   ]
  },
  {
   "cell_type": "code",
   "execution_count": null,
   "id": "4ebcb8cc",
   "metadata": {},
   "outputs": [],
   "source": [
    "# Compile & display\n",
    "df_res = pd.DataFrame(results)"
   ]
  },
  {
   "cell_type": "code",
   "execution_count": null,
   "id": "21b2f98b",
   "metadata": {},
   "outputs": [],
   "source": [
    "# Corrected pivot call\n",
    "df_pivot = df_res.pivot(index=\"lookback\", columns=\"top_n\", values=\"Sharpe\")"
   ]
  },
  {
   "cell_type": "code",
   "execution_count": null,
   "id": "e2ef5bb7",
   "metadata": {},
   "outputs": [],
   "source": [
    "print(\"Sharpe Ratio heatmap (rows=lookback, cols=top_n):\")\n",
    "display(df_pivot)"
   ]
  },
  {
   "cell_type": "code",
   "execution_count": null,
   "id": "5d230810",
   "metadata": {},
   "outputs": [],
   "source": [
    "print(\"\\nTop 10 configs by Sharpe:\")\n",
    "display(df_res.sort_values(\"Sharpe\", ascending=False).head(10))"
   ]
  },
  {
   "cell_type": "code",
   "execution_count": null,
   "id": "6969fbf1",
   "metadata": {},
   "outputs": [],
   "source": [
    "# ------------------------------"
   ]
  },
  {
   "cell_type": "code",
   "execution_count": null,
   "id": "99c75834",
   "metadata": {},
   "outputs": [],
   "source": [
    "# ------------------------------"
   ]
  },
  {
   "cell_type": "code",
   "execution_count": null,
   "id": "55e38631",
   "metadata": {},
   "outputs": [],
   "source": [
    "import numpy as np\n",
    "import matplotlib.pyplot as plt"
   ]
  },
  {
   "cell_type": "code",
   "execution_count": null,
   "id": "d331568d",
   "metadata": {},
   "outputs": [],
   "source": [
    "# ) Reconstruct pivot (if not already)\n",
    "df_pivot = df_res.pivot(index=\"lookback\", columns=\"top_n\", values=\"Sharpe\")"
   ]
  },
  {
   "cell_type": "code",
   "execution_count": null,
   "id": "5c21e82a",
   "metadata": {},
   "outputs": [],
   "source": [
    "# ) Plot heatmap\n",
    "fig, ax = plt.subplots(figsize=(6,4))\n",
    "data = df_pivot.values\n",
    "cax  = ax.imshow(data, origin=\"lower\", aspect=\"auto\", cmap=\"viridis\")\n",
    "fig.colorbar(cax, label=\"Sharpe Ratio\")"
   ]
  },
  {
   "cell_type": "code",
   "execution_count": null,
   "id": "d45a7a4c",
   "metadata": {},
   "outputs": [],
   "source": [
    "# ) Tick labels\n",
    "ax.set_xticks(np.arange(len(df_pivot.columns)))\n",
    "ax.set_xticklabels(df_pivot.columns)\n",
    "ax.set_yticks(np.arange(len(df_pivot.index)))\n",
    "ax.set_yticklabels(df_pivot.index)\n",
    "ax.set_xlabel(\"Top N ETFs\")\n",
    "ax.set_ylabel(\"Momentum Lookback (months)\")\n",
    "ax.set_title(\"Sharpe Ratio Heatmap\")"
   ]
  },
  {
   "cell_type": "code",
   "execution_count": null,
   "id": "1ed87bf7",
   "metadata": {},
   "outputs": [],
   "source": [
    "# ) Annotate each cell with its Sharpe value\n",
    "for i in range(data.shape[0]):\n",
    "    for j in range(data.shape[1]):\n",
    "        val = data[i,j]\n",
    "        ax.text(j, i, f\"{val:.2f}\",\n",
    "                ha=\"center\", va=\"center\",\n",
    "                color=\"white\" if val < data.max()/2 else \"black\")"
   ]
  },
  {
   "cell_type": "code",
   "execution_count": null,
   "id": "c88c24eb",
   "metadata": {},
   "outputs": [],
   "source": [
    "# ) Highlight the best config\n",
    "best = df_res.loc[df_res[\"Sharpe\"].idxmax()]\n",
    "bi   = df_pivot.index.get_loc(best[\"lookback\"])\n",
    "bj   = df_pivot.columns.get_loc(best[\"top_n\"])\n",
    "from matplotlib.patches import Rectangle\n",
    "rect = Rectangle((bj-0.5, bi-0.5), 1, 1, fill=False, edgecolor=\"red\", linewidth=2)\n",
    "ax.add_patch(rect)"
   ]
  },
  {
   "cell_type": "code",
   "execution_count": null,
   "id": "6f3dd81c",
   "metadata": {},
   "outputs": [],
   "source": [
    "plt.tight_layout()\n",
    "plt.show()"
   ]
  },
  {
   "cell_type": "code",
   "execution_count": null,
   "id": "150e5566",
   "metadata": {},
   "outputs": [],
   "source": [
    "# # # #"
   ]
  }
 ],
 "metadata": {},
 "nbformat": 4,
 "nbformat_minor": 5
}
