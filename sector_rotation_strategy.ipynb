{
 "cells": [
  {
   "cell_type": "code",
   "execution_count": null,
   "id": "3ac02568",
   "metadata": {},
   "outputs": [],
   "source": [
    "import pandas as pd\n",
    "import numpy as np\n",
    "import yfinance as yf\n",
    "import matplotlib.pyplot as plt\n",
    "from tqdm import tqdm"
   ]
  },
  {
   "cell_type": "code",
   "execution_count": null,
   "id": "3101f0c8",
   "metadata": {},
   "outputs": [],
   "source": [
    "# ------------------------------\n",
    "# Parameters\n",
    "# ------------------------------\n",
    "ETFS    = [\"XLY\",\"XLP\",\"XLE\",\"XLF\",\"XLV\",\"XLI\",\"XLB\",\"XLK\",\"XLU\"]\n",
    "START   = \"2015-01-01\"\n",
    "LOOKBACK_MONTHS = 6\n",
    "TOP_N   = 3\n",
    "TC      = 0.001  # transaction cost per round-trip"
   ]
  },
  {
   "cell_type": "code",
   "execution_count": null,
   "id": "d891166f",
   "metadata": {},
   "outputs": [],
   "source": [
    "# ------------------------------\n",
    "# Download and prepare data\n",
    "# ------------------------------\n",
    "prices = yf.download(ETFS + [\"SPY\"], start=START, auto_adjust=True)[\"Close\"]\n",
    "returns = prices.pct_change().fillna(0)"
   ]
  },
  {
   "cell_type": "code",
   "execution_count": null,
   "id": "c0d46b6c",
   "metadata": {},
   "outputs": [],
   "source": [
    "price_monthly = prices[ETFS].resample(\"ME\").last()\n",
    "momentum = price_monthly / price_monthly.shift(LOOKBACK_MONTHS) - 1\n",
    "rank_pct = momentum.rank(pct=True, axis=1)"
   ]
  },
  {
   "cell_type": "code",
   "execution_count": null,
   "id": "dc487b06",
   "metadata": {},
   "outputs": [],
   "source": [
    "signal = (rank_pct >= (1 - TOP_N / len(ETFS))).astype(float)\n",
    "positions = signal.reindex(prices.index, method=\"ffill\")\n",
    "positions = positions.div(positions.sum(axis=1), axis=0).fillna(0)"
   ]
  },
  {
   "cell_type": "code",
   "execution_count": null,
   "id": "1e5b530c",
   "metadata": {},
   "outputs": [],
   "source": [
    "# ------------------------------\n",
    "# Strategy returns\n",
    "# ------------------------------\n",
    "strategy_returns = (positions.shift() * returns[ETFS]).sum(axis=1)\n",
    "strategy_returns -= positions.diff().abs().sum(axis=1) * TC\n",
    "cumulative_strategy = (1 + strategy_returns).cumprod()"
   ]
  },
  {
   "cell_type": "code",
   "execution_count": null,
   "id": "6b95a0fa",
   "metadata": {},
   "outputs": [],
   "source": [
    "# Benchmark: SPY buy-hold\n",
    "spy_returns = returns[\"SPY\"]\n",
    "cumulative_spy = (1 + spy_returns).cumprod().reindex(cumulative_strategy.index, method=\"ffill\")"
   ]
  },
  {
   "cell_type": "code",
   "execution_count": null,
   "id": "6aa91c3e",
   "metadata": {},
   "outputs": [],
   "source": [
    "# ------------------------------\n",
    "# Performance metrics function\n",
    "# ------------------------------\n",
    "def perf_stats(returns_series, cumulative_series):\n",
    "    ann = returns_series.mean() * 252\n",
    "    vol = returns_series.std(ddof=0) * np.sqrt(252)\n",
    "    sharpe = ann / vol if vol != 0 else np.nan\n",
    "    drawdown = (cumulative_series.cummax() - cumulative_series).max()\n",
    "    return ann, vol, sharpe, drawdown"
   ]
  },
  {
   "cell_type": "code",
   "execution_count": null,
   "id": "91eee504",
   "metadata": {},
   "outputs": [],
   "source": [
    "s_ann, s_vol, s_sharpe, s_dd = perf_stats(strategy_returns, cumulative_strategy)\n",
    "b_ann, b_vol, b_sharpe, b_dd = perf_stats(spy_returns.loc[cumulative_strategy.index], cumulative_spy)"
   ]
  },
  {
   "cell_type": "code",
   "execution_count": null,
   "id": "5d02a282",
   "metadata": {},
   "outputs": [],
   "source": [
    "print(f\"{'Metric':20}{'Strategy':>12}{'SPY':>12}\")\n",
    "print(\"-\" * 44)\n",
    "print(f\"{'Ann. Return':20}{s_ann:12.2%}{b_ann:12.2%}\")\n",
    "print(f\"{'Ann. Volatility':20}{s_vol:12.2%}{b_vol:12.2%}\")\n",
    "print(f\"{'Sharpe Ratio':20}{s_sharpe:12.2f}{b_sharpe:12.2f}\")\n",
    "print(f\"{'Max Drawdown':20}{s_dd:12.2%}{b_dd:12.2%}\")"
   ]
  },
  {
   "cell_type": "code",
   "execution_count": null,
   "id": "5f05a551",
   "metadata": {},
   "outputs": [],
   "source": [
    "# ------------------------------\n",
    "# Performance attribution\n",
    "# ------------------------------\n",
    "daily_contrib = positions.shift() * returns[ETFS]\n",
    "total_contrib = daily_contrib.sum()\n",
    "avg_weights = positions.mean()"
   ]
  },
  {
   "cell_type": "code",
   "execution_count": null,
   "id": "39c7a7c8",
   "metadata": {},
   "outputs": [],
   "source": [
    "attr = pd.DataFrame({\n",
    "    \"Total Return\": total_contrib,\n",
    "    \"Avg Weight\": avg_weights\n",
    "}).sort_values(\"Total Return\", ascending=False)"
   ]
  },
  {
   "cell_type": "code",
   "execution_count": null,
   "id": "b488c5e4",
   "metadata": {},
   "outputs": [],
   "source": [
    "print(\"\\n=== Sector Attribution ===\")\n",
    "print(attr.to_string(float_format=\"{:.2%}\".format))"
   ]
  },
  {
   "cell_type": "code",
   "execution_count": null,
   "id": "958238fc",
   "metadata": {},
   "outputs": [],
   "source": [
    "# Plot attribution\n",
    "fig, ax1 = plt.subplots(figsize=(8,4))\n",
    "attr[\"Total Return\"].plot.bar(ax=ax1, rot=45, position=0, width=0.4, label=\"Total Return\")\n",
    "ax2 = ax1.twinx()\n",
    "attr[\"Avg Weight\"].plot.bar(ax=ax2, rot=45, position=1, width=0.4, label=\"Avg Weight\")\n",
    "ax1.set_ylabel(\"Total Return\")\n",
    "ax2.set_ylabel(\"Avg Weight\")\n",
    "ax1.set_title(\"Sector Attribution\")\n",
    "ax1.legend(loc=\"upper left\")\n",
    "ax2.legend(loc=\"upper right\")\n",
    "plt.tight_layout()\n",
    "plt.show()"
   ]
  },
  {
   "cell_type": "code",
   "execution_count": null,
   "id": "0a7fcc00",
   "metadata": {},
   "outputs": [],
   "source": [
    "# ------------------------------\n",
    "# Parameter sweep and heatmap\n",
    "# ------------------------------\n",
    "lookbacks = [3, 6, 9, 12]\n",
    "top_ns = [2, 3, 4, 5]\n",
    "results = []"
   ]
  },
  {
   "cell_type": "code",
   "execution_count": null,
   "id": "9683db39",
   "metadata": {},
   "outputs": [],
   "source": [
    "for lb in lookbacks:\n",
    "    mom = price_monthly / price_monthly.shift(lb) - 1\n",
    "    pct = mom.rank(pct=True, axis=1)\n",
    "    for tn in top_ns:\n",
    "        sig = (pct >= (1 - tn / len(ETFS))).astype(float)\n",
    "        pos = sig.reindex(prices.index, method=\"ffill\")\n",
    "        pos = pos.div(pos.sum(axis=1), axis=0).fillna(0)\n",
    "        ret = (pos.shift() * returns[ETFS]).sum(axis=1)\n",
    "        ret -= pos.diff().abs().sum(axis=1) * TC\n",
    "        cum = (1 + ret).cumprod()\n",
    "        ann = ret.mean() * 252\n",
    "        vol = ret.std(ddof=0) * np.sqrt(252)\n",
    "        sharpe = ann / vol if vol != 0 else np.nan\n",
    "        maxdd = (cum.cummax() - cum).max()\n",
    "        results.append({\"lookback\": lb, \"top_n\": tn,\n",
    "                        \"Sharpe\": sharpe})"
   ]
  },
  {
   "cell_type": "code",
   "execution_count": null,
   "id": "41e9e8a5",
   "metadata": {},
   "outputs": [],
   "source": [
    "df_res = pd.DataFrame(results)\n",
    "df_pivot = df_res.pivot(index=\"lookback\", columns=\"top_n\", values=\"Sharpe\")"
   ]
  },
  {
   "cell_type": "code",
   "execution_count": null,
   "id": "57752990",
   "metadata": {},
   "outputs": [],
   "source": [
    "# Plot heatmap with labels and annotations\n",
    "fig, ax = plt.subplots(figsize=(6, 4))\n",
    "data = df_pivot.values\n",
    "im = ax.imshow(data, origin=\"lower\", aspect=\"auto\", cmap=\"viridis\")"
   ]
  },
  {
   "cell_type": "code",
   "execution_count": null,
   "id": "ecc08f35",
   "metadata": {},
   "outputs": [],
   "source": [
    "ax.set_xticks(np.arange(data.shape[1]))\n",
    "ax.set_yticks(np.arange(data.shape[0]))\n",
    "ax.set_xticklabels(df_pivot.columns)\n",
    "ax.set_yticklabels(df_pivot.index)\n",
    "plt.setp(ax.get_xticklabels(), rotation=45, ha=\"right\")"
   ]
  },
  {
   "cell_type": "code",
   "execution_count": null,
   "id": "c35818cd",
   "metadata": {},
   "outputs": [],
   "source": [
    "cbar = fig.colorbar(im, ax=ax, label=\"Sharpe Ratio\")"
   ]
  },
  {
   "cell_type": "code",
   "execution_count": null,
   "id": "89268b53",
   "metadata": {},
   "outputs": [],
   "source": [
    "for i in range(data.shape[0]):\n",
    "    for j in range(data.shape[1]):\n",
    "        ax.text(j, i, f\"{data[i, j]:.2f}\", ha=\"center\", va=\"center\",\n",
    "                color=\"white\" if data[i, j] < data.max()/2 else \"black\")"
   ]
  },
  {
   "cell_type": "code",
   "execution_count": null,
   "id": "d0deb8db",
   "metadata": {},
   "outputs": [],
   "source": [
    "ax.set_xlabel(\"Top N ETFs\")\n",
    "ax.set_ylabel(\"Lookback (months)\")\n",
    "ax.set_title(\"Sharpe Ratio Heatmap\")\n",
    "plt.tight_layout()\n",
    "plt.show()"
   ]
  }
 ],
 "metadata": {},
 "nbformat": 4,
 "nbformat_minor": 5
}
