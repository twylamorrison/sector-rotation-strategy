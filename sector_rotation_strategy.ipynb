{
 "cells": [
  {
   "cell_type": "markdown",
   "id": "f5ee7277",
   "metadata": {},
   "source": [
    "# 📊 Sector Rotation Strategy vs. SPY"
   ]
  },
  {
   "cell_type": "code",
   "execution_count": null,
   "id": "6ba53ac2",
   "metadata": {},
   "outputs": [],
   "source": [
    "# Install required packages\n",
    "!pip install --quiet pandas==2.2.2 yfinance tqdm matplotlib\n"
   ]
  },
  {
   "cell_type": "code",
   "execution_count": null,
   "id": "d2be4198",
   "metadata": {},
   "outputs": [],
   "source": [
    "# Imports and setup\n",
    "import pandas as pd\n",
    "import numpy as np\n",
    "import yfinance as yf\n",
    "import matplotlib.pyplot as plt\n",
    "from tqdm import tqdm\n",
    "\n",
    "plt.close('all')\n",
    "\n",
    "# Strategy parameters\n",
    "ETFS = [\"XLY\",\"XLP\",\"XLE\",\"XLF\",\"XLV\",\"XLI\",\"XLB\",\"XLK\",\"XLU\"]\n",
    "START = \"2015-01-01\"\n",
    "MOM = 6        # lookback in months\n",
    "TOP_N = 3      # number of ETFs to hold\n",
    "TC = 0.001     # transaction cost\n"
   ]
  },
  {
   "cell_type": "code",
   "execution_count": null,
   "id": "626447f8",
   "metadata": {},
   "outputs": [],
   "source": [
    "# Download and prepare data\n",
    "prices = yf.download(ETFS + [\"SPY\"], start=START, auto_adjust=True)[\"Close\"]\n",
    "rets = prices.pct_change().fillna(0)\n",
    "price_m = prices[ETFS].resample(\"ME\").last()\n"
   ]
  },
  {
   "cell_type": "code",
   "execution_count": null,
   "id": "9936508b",
   "metadata": {},
   "outputs": [],
   "source": [
    "# Momentum signal\n",
    "mom = price_m / price_m.shift(MOM) - 1\n",
    "rank_pct = mom.rank(pct=True, axis=1)\n",
    "signal_m = (rank_pct >= (1 - TOP_N / len(ETFS))).astype(float)\n",
    "pos = signal_m.reindex(prices.index, method=\"ffill\")\n",
    "pos = pos.div(pos.sum(axis=1), axis=0).fillna(0)\n"
   ]
  },
  {
   "cell_type": "code",
   "execution_count": null,
   "id": "97554621",
   "metadata": {},
   "outputs": [],
   "source": [
    "# Strategy returns\n",
    "strategy_returns = (pos.shift() * rets[ETFS]).sum(axis=1)\n",
    "strategy_returns -= pos.diff().abs().sum(axis=1) * TC\n",
    "cumulative_strategy = (1 + strategy_returns).cumprod()\n",
    "\n",
    "# SPY benchmark\n",
    "spy_ret = rets[\"SPY\"]\n",
    "cum_spy = (1 + spy_ret).cumprod()\n"
   ]
  },
  {
   "cell_type": "code",
   "execution_count": null,
   "id": "e5a2c4d1",
   "metadata": {},
   "outputs": [],
   "source": [
    "# Plot cumulative returns\n",
    "plt.figure(figsize=(10, 5))\n",
    "plt.plot(cumulative_strategy, label=\"6-M Sector Rotation\")\n",
    "plt.plot(cum_spy, label=\"SPY Buy-Hold\")\n",
    "plt.title(\"6-Month Momentum Sector Rotation vs. SPY\")\n",
    "plt.xlabel(\"Date\")\n",
    "plt.ylabel(\"Cumulative Return\")\n",
    "plt.legend()\n",
    "plt.grid(True)\n",
    "plt.show()\n"
   ]
  },
  {
   "cell_type": "code",
   "execution_count": null,
   "id": "e786067e",
   "metadata": {},
   "outputs": [],
   "source": [
    "# Performance metrics\n",
    "def perf_stats(r, cr):\n",
    "    a = r.dropna().to_numpy()\n",
    "    if a.size == 0: return (np.nan,) * 4\n",
    "    ann = a.mean() * 252\n",
    "    vol = a.std(ddof=0) * np.sqrt(252)\n",
    "    sr = ann / vol if vol != 0 else np.nan\n",
    "    dd = np.max(np.maximum.accumulate(cr) - cr)\n",
    "    return ann, vol, sr, dd\n",
    "\n",
    "s_r, s_v, s_sr, s_dd = perf_stats(strategy_returns, cumulative_strategy)\n",
    "p_r, p_v, p_sr, p_dd = perf_stats(spy_ret, cum_spy)\n",
    "\n",
    "print(f\"{'Metric':20}{'Rotation':>12}{'SPY':>12}\")\n",
    "print(\"-\" * 44)\n",
    "print(f\"{'Ann. Return':20}{s_r:12.2%}{p_r:12.2%}\")\n",
    "print(f\"{'Ann. Volatility':20}{s_v:12.2%}{p_v:12.2%}\")\n",
    "print(f\"{'Sharpe Ratio':20}{s_sr:12.2f}{p_sr:12.2f}\")\n",
    "print(f\"{'Max Drawdown':20}{s_dd:12.2%}{p_dd:12.2%}\")\n"
   ]
  },
  {
   "cell_type": "code",
   "execution_count": null,
   "id": "6f88d4e3",
   "metadata": {},
   "outputs": [],
   "source": [
    "# Attribution analysis\n",
    "daily_contrib = pos.shift() * rets[ETFS]\n",
    "total_contrib = daily_contrib.sum()\n",
    "avg_weights = pos.mean()\n",
    "attr = pd.DataFrame({\n",
    "    \"avg_weight\": avg_weights,\n",
    "    \"total_return\": total_contrib\n",
    "}).sort_values(\"total_return\", ascending=False)\n",
    "\n",
    "print(\"=== Sector Attribution ===\")\n",
    "print(attr.to_string(float_format=\"{:,.2%}\".format))\n"
   ]
  },
  {
   "cell_type": "code",
   "execution_count": null,
   "id": "2a807a5b",
   "metadata": {},
   "outputs": [],
   "source": [
    "# Attribution plot\n",
    "fig, ax1 = plt.subplots(figsize=(8, 4))\n",
    "attr[\"total_return\"].plot.bar(ax=ax1, rot=45, position=0, width=0.4, label=\"Total Return\")\n",
    "ax2 = ax1.twinx()\n",
    "attr[\"avg_weight\"].plot.bar(ax=ax2, rot=45, position=1, width=0.4, color=\"C1\", label=\"Avg Weight\")\n",
    "ax1.set_ylabel(\"Total Return\")\n",
    "ax2.set_ylabel(\"Avg Weight\")\n",
    "ax1.set_title(\"Sector Rotation Attribution\")\n",
    "ax1.legend(loc=\"upper left\")\n",
    "ax2.legend(loc=\"upper right\")\n",
    "plt.tight_layout()\n",
    "plt.show()\n"
   ]
  },
  {
   "cell_type": "code",
   "execution_count": null,
   "id": "a8c41ab3",
   "metadata": {},
   "outputs": [],
   "source": [
    "# Sharpe heatmap parameter sweep\n",
    "lookbacks = [3, 6, 9, 12]\n",
    "top_ns = [2, 3, 4, 5]\n",
    "results = []\n",
    "\n",
    "for mom in tqdm(lookbacks, desc=\"Lookbacks\"):\n",
    "    mom_ret = price_m / price_m.shift(mom) - 1\n",
    "    rank_pct = mom_ret.rank(pct=True, axis=1)\n",
    "\n",
    "    for top_n in top_ns:\n",
    "        signal_m = (rank_pct >= (1 - top_n / len(ETFS))).astype(float)\n",
    "        pos = signal_m.reindex(prices.index, method=\"ffill\")\n",
    "        pos = pos.div(pos.sum(axis=1), axis=0).fillna(0)\n",
    "        strategy_returns = (pos.shift() * rets[ETFS]).sum(axis=1)\n",
    "        strategy_returns -= pos.diff().abs().sum(axis=1) * TC\n",
    "        cum = (1 + strategy_returns).cumprod()\n",
    "\n",
    "        ann_ret = strategy_returns.mean() * 252\n",
    "        ann_vol = strategy_returns.std(ddof=0) * np.sqrt(252)\n",
    "        sharpe = ann_ret / ann_vol if ann_vol else np.nan\n",
    "        max_dd = (cum.cummax() - cum).max()\n",
    "\n",
    "        results.append({\n",
    "            \"lookback\": mom,\n",
    "            \"top_n\": top_n,\n",
    "            \"Ann Return\": ann_ret,\n",
    "            \"Ann Vol\": ann_vol,\n",
    "            \"Sharpe\": sharpe,\n",
    "            \"Max Drawdown\": max_dd\n",
    "        })\n",
    "\n",
    "df_res = pd.DataFrame(results)\n",
    "df_pivot = df_res.pivot(index=\"lookback\", columns=\"top_n\", values=\"Sharpe\")\n"
   ]
  },
  {
   "cell_type": "code",
   "execution_count": null,
   "id": "9d4acc24",
   "metadata": {},
   "outputs": [],
   "source": [
    "# Plot heatmap\n",
    "from matplotlib.patches import Rectangle\n",
    "\n",
    "fig, ax = plt.subplots(figsize=(6, 4))\n",
    "data = df_pivot.values\n",
    "cax = ax.imshow(data, origin=\"lower\", aspect=\"auto\", cmap=\"viridis\")\n",
    "fig.colorbar(cax, label=\"Sharpe Ratio\")\n",
    "\n",
    "ax.set_xticks(np.arange(len(df_pivot.columns)))\n",
    "ax.set_xticklabels(df_pivot.columns)\n",
    "ax.set_yticks(np.arange(len(df_pivot.index)))\n",
    "ax.set_yticklabels(df_pivot.index)\n",
    "ax.set_xlabel(\"Top N ETFs\")\n",
    "ax.set_ylabel(\"Momentum Lookback (months)\")\n",
    "ax.set_title(\"Sharpe Ratio Heatmap\")\n",
    "\n",
    "for i in range(data.shape[0]):\n",
    "    for j in range(data.shape[1]):\n",
    "        ax.text(j, i, f\"{data[i,j]:.2f}\", ha=\"center\", va=\"center\",\n",
    "                color=\"white\" if data[i,j] < data.max()/2 else \"black\")\n",
    "\n",
    "best = df_res.loc[df_res[\"Sharpe\"].idxmax()]\n",
    "bi = df_pivot.index.get_loc(best[\"lookback\"])\n",
    "bj = df_pivot.columns.get_loc(best[\"top_n\"])\n",
    "rect = Rectangle((bj - 0.5, bi - 0.5), 1, 1, fill=False, edgecolor=\"red\", linewidth=2)\n",
    "ax.add_patch(rect)\n",
    "\n",
    "plt.tight_layout()\n",
    "plt.show()\n"
   ]
  }
 ],
 "metadata": {},
 "nbformat": 4,
 "nbformat_minor": 5
}
